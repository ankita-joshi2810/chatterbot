{
 "cells": [
  {
   "cell_type": "code",
   "execution_count": 1,
   "id": "480deaad",
   "metadata": {},
   "outputs": [
    {
     "name": "stdout",
     "output_type": "stream",
     "text": [
      "Requirement already satisfied: chatterbot in c:\\users\\ankit\\anaconda3\\lib\\site-packages (1.0.4)\n",
      "Requirement already satisfied: mathparse<0.2,>=0.1 in c:\\users\\ankit\\anaconda3\\lib\\site-packages (from chatterbot) (0.1.2)\n",
      "Requirement already satisfied: python-dateutil<2.8,>=2.7 in c:\\users\\ankit\\anaconda3\\lib\\site-packages (from chatterbot) (2.7.5)\n",
      "Requirement already satisfied: nltk<4.0,>=3.2 in c:\\users\\ankit\\anaconda3\\lib\\site-packages (from chatterbot) (3.6.1)\n",
      "Requirement already satisfied: pint>=0.8.1 in c:\\users\\ankit\\anaconda3\\lib\\site-packages (from chatterbot) (0.19.1)\n",
      "Requirement already satisfied: sqlalchemy<1.3,>=1.2 in c:\\users\\ankit\\anaconda3\\lib\\site-packages (from chatterbot) (1.2.19)\n",
      "Requirement already satisfied: pymongo<4.0,>=3.3 in c:\\users\\ankit\\anaconda3\\lib\\site-packages (from chatterbot) (3.12.3)\n",
      "Requirement already satisfied: chatterbot-corpus<1.3,>=1.2 in c:\\users\\ankit\\anaconda3\\lib\\site-packages (from chatterbot) (1.2.0)\n",
      "Requirement already satisfied: PyYAML<4.0,>=3.12 in c:\\users\\ankit\\anaconda3\\lib\\site-packages (from chatterbot-corpus<1.3,>=1.2->chatterbot) (3.13)\n",
      "Requirement already satisfied: joblib in c:\\users\\ankit\\anaconda3\\lib\\site-packages (from nltk<4.0,>=3.2->chatterbot) (1.0.1)\n",
      "Requirement already satisfied: click in c:\\users\\ankit\\anaconda3\\lib\\site-packages (from nltk<4.0,>=3.2->chatterbot) (7.1.2)\n",
      "Requirement already satisfied: tqdm in c:\\users\\ankit\\anaconda3\\lib\\site-packages (from nltk<4.0,>=3.2->chatterbot) (4.59.0)\n",
      "Requirement already satisfied: regex in c:\\users\\ankit\\anaconda3\\lib\\site-packages (from nltk<4.0,>=3.2->chatterbot) (2021.4.4)\n",
      "Requirement already satisfied: six>=1.5 in c:\\users\\ankit\\anaconda3\\lib\\site-packages (from python-dateutil<2.8,>=2.7->chatterbot) (1.15.0)\n",
      "Note: you may need to restart the kernel to use updated packages.\n"
     ]
    }
   ],
   "source": [
    "pip install chatterbot"
   ]
  },
  {
   "cell_type": "code",
   "execution_count": 2,
   "id": "0e2e52e0",
   "metadata": {},
   "outputs": [
    {
     "name": "stdout",
     "output_type": "stream",
     "text": [
      "Requirement already satisfied: chatterbot_corpus in c:\\users\\ankit\\anaconda3\\lib\\site-packages (1.2.0)\n",
      "Requirement already satisfied: PyYAML<4.0,>=3.12 in c:\\users\\ankit\\anaconda3\\lib\\site-packages (from chatterbot_corpus) (3.13)\n",
      "Note: you may need to restart the kernel to use updated packages.\n"
     ]
    }
   ],
   "source": [
    "pip install chatterbot_corpus"
   ]
  },
  {
   "cell_type": "code",
   "execution_count": 3,
   "id": "9c8af44e",
   "metadata": {},
   "outputs": [],
   "source": [
    "# Importing chatterbot\n",
    "from chatterbot import ChatBot"
   ]
  },
  {
   "cell_type": "code",
   "execution_count": 4,
   "id": "7af47f06",
   "metadata": {},
   "outputs": [
    {
     "name": "stderr",
     "output_type": "stream",
     "text": [
      "[nltk_data] Downloading package averaged_perceptron_tagger to\n",
      "[nltk_data]     C:\\Users\\ankit\\AppData\\Roaming\\nltk_data...\n",
      "[nltk_data]   Package averaged_perceptron_tagger is already up-to-\n",
      "[nltk_data]       date!\n",
      "[nltk_data] Downloading package punkt to\n",
      "[nltk_data]     C:\\Users\\ankit\\AppData\\Roaming\\nltk_data...\n",
      "[nltk_data]   Package punkt is already up-to-date!\n",
      "[nltk_data] Downloading package stopwords to\n",
      "[nltk_data]     C:\\Users\\ankit\\AppData\\Roaming\\nltk_data...\n",
      "[nltk_data]   Package stopwords is already up-to-date!\n"
     ]
    }
   ],
   "source": [
    "# Create object of ChatBot class\n",
    "bot = ChatBot('Edu')"
   ]
  },
  {
   "cell_type": "code",
   "execution_count": 5,
   "id": "e0a0b147",
   "metadata": {},
   "outputs": [
    {
     "name": "stderr",
     "output_type": "stream",
     "text": [
      "[nltk_data] Downloading package averaged_perceptron_tagger to\n",
      "[nltk_data]     C:\\Users\\ankit\\AppData\\Roaming\\nltk_data...\n",
      "[nltk_data]   Package averaged_perceptron_tagger is already up-to-\n",
      "[nltk_data]       date!\n",
      "[nltk_data] Downloading package punkt to\n",
      "[nltk_data]     C:\\Users\\ankit\\AppData\\Roaming\\nltk_data...\n",
      "[nltk_data]   Package punkt is already up-to-date!\n",
      "[nltk_data] Downloading package stopwords to\n",
      "[nltk_data]     C:\\Users\\ankit\\AppData\\Roaming\\nltk_data...\n",
      "[nltk_data]   Package stopwords is already up-to-date!\n"
     ]
    }
   ],
   "source": [
    "# Create object of ChatBot class with Storage Adapter\n",
    "bot = ChatBot(\n",
    " 'Edu',\n",
    " storage_adapter='chatterbot.storage.SQLStorageAdapter',\n",
    " database_uri='sqlite:///database.sqlite3'\n",
    ")"
   ]
  },
  {
   "cell_type": "code",
   "execution_count": 6,
   "id": "79e67abb",
   "metadata": {},
   "outputs": [
    {
     "name": "stderr",
     "output_type": "stream",
     "text": [
      "[nltk_data] Downloading package averaged_perceptron_tagger to\n",
      "[nltk_data]     C:\\Users\\ankit\\AppData\\Roaming\\nltk_data...\n",
      "[nltk_data]   Package averaged_perceptron_tagger is already up-to-\n",
      "[nltk_data]       date!\n",
      "[nltk_data] Downloading package punkt to\n",
      "[nltk_data]     C:\\Users\\ankit\\AppData\\Roaming\\nltk_data...\n",
      "[nltk_data]   Package punkt is already up-to-date!\n",
      "[nltk_data] Downloading package stopwords to\n",
      "[nltk_data]     C:\\Users\\ankit\\AppData\\Roaming\\nltk_data...\n",
      "[nltk_data]   Package stopwords is already up-to-date!\n"
     ]
    }
   ],
   "source": [
    "# Create object of ChatBot class with Logic Adapter\n",
    "bot = ChatBot(\n",
    " 'Edu', \n",
    " logic_adapters=[\n",
    " 'chatterbot.logic.BestMatch',\n",
    " 'chatterbot.logic.TimeLogicAdapter'],\n",
    ")\n"
   ]
  },
  {
   "cell_type": "code",
   "execution_count": 7,
   "id": "2c362a6e",
   "metadata": {},
   "outputs": [
    {
     "name": "stdout",
     "output_type": "stream",
     "text": [
      "List Trainer: [####################] 100%\n"
     ]
    }
   ],
   "source": [
    "# Inport ListTrainer\n",
    "from chatterbot.trainers import ListTrainer\n",
    "trainer = ListTrainer(bot)\n",
    "trainer.train([\n",
    "'Hi',\n",
    "'Hello',\n",
    "'I need your assistance regarding my Marks',\n",
    "'Please, Provide me with your Student id',\n",
    "'I have a complaint.',\n",
    "'Please elaborate, your concern',\n",
    "'How long it will take to receive my Marksheet ?',\n",
    "'It will take only 15 days.',\n",
    "'Okay Thanks',\n",
    "'No Problem! Have a Good Day!'\n",
    "])\n"
   ]
  },
  {
   "cell_type": "code",
   "execution_count": 8,
   "id": "03d26e4c",
   "metadata": {},
   "outputs": [
    {
     "name": "stdout",
     "output_type": "stream",
     "text": [
      "Bot Response: Please elaborate, your concern\n"
     ]
    }
   ],
   "source": [
    "response = bot.get_response('I have a complaint.')\n",
    "print(\"Bot Response:\", response)"
   ]
  },
  {
   "cell_type": "code",
   "execution_count": 9,
   "id": "ec452974",
   "metadata": {},
   "outputs": [
    {
     "name": "stdout",
     "output_type": "stream",
     "text": [
      "Enter Your Name: ankita\n",
      "Welcome to the Bot Service! Let me know how can I help you?\n",
      "ankita:hi\n",
      "Bot: Hello\n",
      "ankita:I need your assistance regarding my Marks\n",
      "Bot: Please, Provide me with your Student id\n",
      "ankita:21mci1039\n",
      "Bot: The current time is 11:21 AM\n",
      "ankita:bye\n",
      "Bot: Bye\n"
     ]
    }
   ],
   "source": [
    "name=input(\"Enter Your Name: \")\n",
    "print(\"Welcome to the Bot Service! Let me know how can I help you?\")\n",
    "while True:\n",
    "    request=input(name+':')\n",
    "    if request=='Bye' or request =='bye':\n",
    "        print('Bot: Bye')\n",
    "        break\n",
    "    else:\n",
    "        response=bot.get_response(request)\n",
    "        print('Bot:',response)"
   ]
  },
  {
   "cell_type": "code",
   "execution_count": null,
   "id": "2bc9a9d5",
   "metadata": {},
   "outputs": [],
   "source": []
  }
 ],
 "metadata": {
  "kernelspec": {
   "display_name": "Python 3",
   "language": "python",
   "name": "python3"
  },
  "language_info": {
   "codemirror_mode": {
    "name": "ipython",
    "version": 3
   },
   "file_extension": ".py",
   "mimetype": "text/x-python",
   "name": "python",
   "nbconvert_exporter": "python",
   "pygments_lexer": "ipython3",
   "version": "3.8.8"
  }
 },
 "nbformat": 4,
 "nbformat_minor": 5
}
